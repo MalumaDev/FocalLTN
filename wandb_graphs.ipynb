{
 "cells": [
  {
   "cell_type": "code",
   "id": "initial_id",
   "metadata": {
    "collapsed": true,
    "ExecuteTime": {
     "end_time": "2024-05-15T14:21:13.427665Z",
     "start_time": "2024-05-15T14:21:13.218106Z"
    }
   },
   "source": [
    "from pathlib import Path\n",
    "\n",
    "import numpy as np\n",
    "import wandb\n",
    "import pandas as pd\n",
    "import seaborn as sns\n",
    "from tqdm import tqdm\n",
    "import re\n",
    "from matplotlib import pyplot as plt\n",
    "\n",
    "sns.set_style(\"whitegrid\")\n",
    "\n",
    "out = Path(\"plots\")\n",
    "data_category = \"all\"\n",
    "api = wandb.Api()\n",
    "runs = api.runs(f\"grains-polito/NeSy24PascalPart_{data_category.upper()}\")\n",
    "reports = api.reports(f\"grains-polito/NeSy24PascalPart_{data_category.upper()}\")\n",
    "\n",
    "exp_keys = {\n",
    "    \"test/type_acc\": \"Type Accuracy\",\n",
    "    \"test/type_balanced_acc\": \"Type Balanced Accuracy\",\n",
    "    \"test/partof_pr_auc\": \"PartOf PR AUC\",\n",
    "    \"test/partof_roc_auc\": \"PartOf ROC AUC\",\n",
    "    \"test/unreasonable_false_pos\": \"# Mereological Violations\",\n",
    "    \"test/reasonable_false_pos\": \"# Mereological Violations (Reasonable)\",\n",
    "    \"test/false_neg\": \"False Negatives\",\n",
    "}\n",
    "\n",
    "sort_types = {\n",
    "    \"test/type_acc\": \"max\",\n",
    "    \"test/type_balanced_acc\": \"max\",\n",
    "    \"test/partof_pr_auc\": \"max\",\n",
    "    \"test/partof_roc_auc\": \"max\",\n",
    "    \"test/unreasonable_false_pos\": \"min\",\n",
    "    \"test/reasonable_false_pos\": \"min\",\n",
    "    \"test/false_neg\": \"min\",\n",
    "}\n",
    "\n",
    "legend_map = {\n",
    "    'log_ltn': \"logLTN\",\n",
    "    'prod_rl': \"LTN-Prod\",\n",
    "    'prod_rl_1': \"LTN-Prod Test\",\n",
    "    'stable_rl_2': \"LTN-Stable (p: 2)\",\n",
    "    'stable_rl_6': \"LTN-Stable (p: 6)\",\n",
    "    'focal_ltn_6': \"Focal LTN (gamma: 6)\",\n",
    "    'focal_ltn': \"Focal LTN (gamma: 2)\",\n",
    "    'focal_ltn_sum': \"Focal LTN (Sum)\",\n",
    "    'focal_ltn_1': \"Focal LTN (gamma: 1)\",\n",
    "    'focal_ltn_0': \"Focal LTN (gamma: 0)\",\n",
    "    'focal_log_ltn_6': \"Focal logLTN (gamma: 6)\",\n",
    "    'focal_log_ltn': \"Focal logLTN (gamma: 2)\",\n",
    "    'focal_log_ltn_sum': \"Focal logLTN (Sum)\",\n",
    "    'focal_log_ltn_1': \"Focal logLTN (gamma: 1)\",\n",
    "    'focal_log_ltn_0': \"Focal logLTN (gamma: 0)\",\n",
    "}\n",
    "\n",
    "sort_order = [\"LTN-Stable (p: 2)\",\"LTN-Stable (p: 6)\", \"LTN-Prod\", \"logLTN\", \"Focal LTN (gamma: 2)\", \"Focal LTN (Sum)\", \"Focal logLTN (gamma: 2)\", \"Focal logLTN (Sum)\"]\n"
   ],
   "outputs": [],
   "execution_count": 59
  },
  {
   "metadata": {
    "ExecuteTime": {
     "end_time": "2024-05-15T14:21:51.321715Z",
     "start_time": "2024-05-15T14:21:13.998091Z"
    }
   },
   "cell_type": "code",
   "source": [
    "runs_df = pd.DataFrame()\n",
    "discarded_keys = set()\n",
    "for run in tqdm(runs):\n",
    "    df = run.history(\n",
    "        samples=10, keys=list(exp_keys.keys()),\n",
    "        x_axis=\"_step\", pandas=(True), stream=\"default\"\n",
    "    ).dropna(axis=1, how=\"any\")\n",
    "    steps = df[\"_step\"].unique().tolist()\n",
    "    steps.sort()\n",
    "    steps = {v: i for i, v in enumerate(steps)}\n",
    "    df[\"_step\"] = df[\"_step\"].map(steps)\n",
    "    for k, v in run.config.items():\n",
    "        if not k.startswith(\"_\"):\n",
    "            try:\n",
    "                if k == \"group_name\":\n",
    "                    tmp = v.replace(\"_test\", \"\").split(\"_\")\n",
    "                    \n",
    "                    if \".\" in tmp[-1]:\n",
    "                        v = \"_\".join(tmp[:-1])\n",
    "                        v = f\"{legend_map[v]} ({tmp[-1]})\"\n",
    "                    elif \"sum\" in v:\n",
    "                        v = v.replace(\"_1\", \"\")\n",
    "                        v = legend_map[v]\n",
    "                    else:\n",
    "                        v = legend_map[v]\n",
    "                df[k] = v\n",
    "            except ValueError as e:\n",
    "                discarded_keys.add(k)\n",
    "            except KeyError as e:\n",
    "                print(f\"Skip key {k} for run {run.name}: {v}\")\n",
    "                continue\n",
    "    if run.config.get(\"group_name\").endswith(\"_0\"):\n",
    "        continue\n",
    "    df[\"name\"] = run.name\n",
    "    if \"data_ratio\" not in df.columns:\n",
    "        df[\"data_ratio\"] = 1\n",
    "    if \"gamma\" not in df.columns:\n",
    "        df[\"gamma\"] = 1\n",
    "    runs_df = pd.concat([runs_df, df])\n",
    "print(discarded_keys)"
   ],
   "id": "10b17f3de6c2257d",
   "outputs": [
    {
     "name": "stderr",
     "output_type": "stream",
     "text": [
      "  2%|▏         | 2/123 [00:00<00:33,  3.57it/s]"
     ]
    },
    {
     "name": "stdout",
     "output_type": "stream",
     "text": [
      "Skip key group_name for run stable_rl_12_1_1300: stable_rl_12_1\n"
     ]
    },
    {
     "name": "stderr",
     "output_type": "stream",
     "text": [
      "  2%|▏         | 3/123 [00:00<00:32,  3.73it/s]"
     ]
    },
    {
     "name": "stdout",
     "output_type": "stream",
     "text": [
      "Skip key group_name for run stable_rl_16_1_1300: stable_rl_16_1\n"
     ]
    },
    {
     "name": "stderr",
     "output_type": "stream",
     "text": [
      "  4%|▍         | 5/123 [00:01<00:26,  4.50it/s]"
     ]
    },
    {
     "name": "stdout",
     "output_type": "stream",
     "text": [
      "Skip key group_name for run stable_rl_8_1_1300: stable_rl_8_1\n"
     ]
    },
    {
     "name": "stderr",
     "output_type": "stream",
     "text": [
      "100%|██████████| 123/123 [00:37<00:00,  3.30it/s]"
     ]
    },
    {
     "name": "stdout",
     "output_type": "stream",
     "text": [
      "{'types_hidden_layer_sizes', 'partof_hidden_layer_sizes'}\n"
     ]
    },
    {
     "name": "stderr",
     "output_type": "stream",
     "text": [
      "\n"
     ]
    }
   ],
   "execution_count": 60
  },
  {
   "metadata": {
    "ExecuteTime": {
     "end_time": "2024-05-15T14:18:48.850384Z",
     "start_time": "2024-05-15T14:18:48.850384Z"
    }
   },
   "cell_type": "code",
   "source": "k",
   "id": "dabb28ca43d1a92d",
   "outputs": [],
   "execution_count": null
  },
  {
   "metadata": {
    "ExecuteTime": {
     "end_time": "2024-05-15T14:22:11.974161Z",
     "start_time": "2024-05-15T14:22:11.968688Z"
    }
   },
   "cell_type": "code",
   "source": [
    "tmp = runs_df[\n",
    "    [\"name\", \"_step\", \"random_seed\", \"group_name\", \"ltn_config\", \"gamma\", \"data_ratio\"] + list(exp_keys.keys())]"
   ],
   "id": "27fa6fee537d4eb0",
   "outputs": [],
   "execution_count": 62
  },
  {
   "metadata": {
    "ExecuteTime": {
     "end_time": "2024-05-15T13:06:28.549821Z",
     "start_time": "2024-05-15T13:06:28.405918Z"
    }
   },
   "cell_type": "code",
   "source": [
    "out = pd.DataFrame()\n",
    "gamma = 1\n",
    "df = tmp[(tmp[\"gamma\"] == 1) & (tmp[\"data_ratio\"] == gamma)].groupby([\"group_name\", \"_step\"])\n",
    "for k, title in exp_keys.items():\n",
    "    t = df.agg(mean=(k, \"mean\"), std=(k, \"std\"))\n",
    "    t = t.sort_values('mean', ascending=sort_types[k] == \"min\").reset_index()\n",
    "    if k == \"test/type_acc\":\n",
    "        t = t.groupby([\"group_name\"]).nth(0)\n",
    "        best_step = t[[\"group_name\", \"_step\"]]\n",
    "    else:\n",
    "        t[\"filter\"] = t[[\"group_name\", \"_step\"]].apply(\n",
    "            lambda x: any((best_step[\"group_name\"] == x[\"group_name\"]) & (best_step[\"_step\"] == x[\"_step\"])), axis=1)\n",
    "        t = t[t[\"filter\"]]\n",
    "    t[\"metric\"] = exp_keys[k]\n",
    "    t = t.reset_index()\n",
    "    t[\"res\"] = t[\"mean\"].map(\"{:.3f}\".format) + \" ± \" + t[\"std\"].map(\"{:.3f}\".format)\n",
    "    out = pd.concat([out, t[[\"group_name\", \"metric\", \"res\", \"_step\"]]], axis=0)\n",
    "\n",
    "tmp2 = out.pivot(index=\"group_name\", columns=\"metric\", values=\"res\")[\n",
    "    [\"Type Accuracy\", \"Type Balanced Accuracy\", \"PartOf PR AUC\", \"PartOf ROC AUC\", \"# Mereological Violations\",\n",
    "     \"# Mereological Violations (Reasonable)\", \"False Negatives\"]]\n",
    "if gamma != 1:\n",
    "    print(\"here\")\n",
    "    tmp2 = tmp2.rename(index= lambda x: x.replace(f\" ({gamma})\", \"\"))\n",
    "    tmp2 = tmp2.dropna()\n",
    "tmp2 = tmp2.reindex(sort_order)\n",
    "tmp2.to_clipboard()\n",
    "tmp2"
   ],
   "id": "74217d4e7e5a536e",
   "outputs": [
    {
     "data": {
      "text/plain": [
       "metric                   Type Accuracy Type Balanced Accuracy  PartOf PR AUC  \\\n",
       "group_name                                                                     \n",
       "LTN-Stable (p: 2)        0.120 ± 0.029          0.030 ± 0.015  0.050 ± 0.044   \n",
       "LTN-Stable (p: 6)        0.505 ± 0.022          0.327 ± 0.030  0.150 ± 0.262   \n",
       "LTN-Prod                 0.606 ± 0.011          0.523 ± 0.004  0.179 ± 0.327   \n",
       "logLTN                   0.617 ± 0.010          0.534 ± 0.022  0.163 ± 0.289   \n",
       "Focal LTN (gamma: 2)     0.590 ± 0.013          0.499 ± 0.014  0.321 ± 0.396   \n",
       "Focal LTN (Sum)          0.587 ± 0.013          0.509 ± 0.021  0.033 ± 0.001   \n",
       "Focal logLTN (gamma: 2)  0.632 ± 0.005          0.551 ± 0.008  0.182 ± 0.337   \n",
       "Focal logLTN (Sum)       0.632 ± 0.005          0.550 ± 0.008  0.032 ± 0.002   \n",
       "\n",
       "metric                  PartOf ROC AUC # Mereological Violations  \\\n",
       "group_name                                                         \n",
       "LTN-Stable (p: 2)        0.549 ± 0.183     56700.600 ± 77667.635   \n",
       "LTN-Stable (p: 6)        0.587 ± 0.217     13870.000 ± 18414.029   \n",
       "LTN-Prod                 0.594 ± 0.222       4212.000 ± 4759.733   \n",
       "logLTN                   0.591 ± 0.221     11867.600 ± 10252.679   \n",
       "Focal LTN (gamma: 2)     0.689 ± 0.276      11613.200 ± 9117.898   \n",
       "Focal LTN (Sum)          0.486 ± 0.009       6907.200 ± 3285.600   \n",
       "Focal logLTN (gamma: 2)  0.574 ± 0.234       8645.400 ± 6398.968   \n",
       "Focal logLTN (Sum)       0.475 ± 0.014       9596.200 ± 6186.083   \n",
       "\n",
       "metric                  # Mereological Violations (Reasonable)  \\\n",
       "group_name                                                       \n",
       "LTN-Stable (p: 2)                         7376.400 ± 14517.004   \n",
       "LTN-Stable (p: 6)                         5968.200 ± 12757.054   \n",
       "LTN-Prod                                   1177.000 ± 2499.734   \n",
       "logLTN                                     4273.200 ± 8739.115   \n",
       "Focal LTN (gamma: 2)                       2904.800 ± 3835.510   \n",
       "Focal LTN (Sum)                              275.200 ± 159.101   \n",
       "Focal logLTN (gamma: 2)                     996.800 ± 1534.351   \n",
       "Focal logLTN (Sum)                           402.000 ± 297.774   \n",
       "\n",
       "metric                         False Negatives  \n",
       "group_name                                      \n",
       "LTN-Stable (p: 2)        20876.000 ± 10533.773  \n",
       "LTN-Stable (p: 6)        21146.400 ± 10754.415  \n",
       "LTN-Prod                 21185.600 ± 11048.245  \n",
       "logLTN                   21013.600 ± 10932.613  \n",
       "Focal LTN (gamma: 2)     16204.200 ± 13452.335  \n",
       "Focal LTN (Sum)            25972.400 ± 138.942  \n",
       "Focal logLTN (gamma: 2)  21317.200 ± 10254.386  \n",
       "Focal logLTN (Sum)         25878.800 ± 224.427  "
      ],
      "text/html": [
       "<div>\n",
       "<style scoped>\n",
       "    .dataframe tbody tr th:only-of-type {\n",
       "        vertical-align: middle;\n",
       "    }\n",
       "\n",
       "    .dataframe tbody tr th {\n",
       "        vertical-align: top;\n",
       "    }\n",
       "\n",
       "    .dataframe thead th {\n",
       "        text-align: right;\n",
       "    }\n",
       "</style>\n",
       "<table border=\"1\" class=\"dataframe\">\n",
       "  <thead>\n",
       "    <tr style=\"text-align: right;\">\n",
       "      <th>metric</th>\n",
       "      <th>Type Accuracy</th>\n",
       "      <th>Type Balanced Accuracy</th>\n",
       "      <th>PartOf PR AUC</th>\n",
       "      <th>PartOf ROC AUC</th>\n",
       "      <th># Mereological Violations</th>\n",
       "      <th># Mereological Violations (Reasonable)</th>\n",
       "      <th>False Negatives</th>\n",
       "    </tr>\n",
       "    <tr>\n",
       "      <th>group_name</th>\n",
       "      <th></th>\n",
       "      <th></th>\n",
       "      <th></th>\n",
       "      <th></th>\n",
       "      <th></th>\n",
       "      <th></th>\n",
       "      <th></th>\n",
       "    </tr>\n",
       "  </thead>\n",
       "  <tbody>\n",
       "    <tr>\n",
       "      <th>LTN-Stable (p: 2)</th>\n",
       "      <td>0.120 ± 0.029</td>\n",
       "      <td>0.030 ± 0.015</td>\n",
       "      <td>0.050 ± 0.044</td>\n",
       "      <td>0.549 ± 0.183</td>\n",
       "      <td>56700.600 ± 77667.635</td>\n",
       "      <td>7376.400 ± 14517.004</td>\n",
       "      <td>20876.000 ± 10533.773</td>\n",
       "    </tr>\n",
       "    <tr>\n",
       "      <th>LTN-Stable (p: 6)</th>\n",
       "      <td>0.505 ± 0.022</td>\n",
       "      <td>0.327 ± 0.030</td>\n",
       "      <td>0.150 ± 0.262</td>\n",
       "      <td>0.587 ± 0.217</td>\n",
       "      <td>13870.000 ± 18414.029</td>\n",
       "      <td>5968.200 ± 12757.054</td>\n",
       "      <td>21146.400 ± 10754.415</td>\n",
       "    </tr>\n",
       "    <tr>\n",
       "      <th>LTN-Prod</th>\n",
       "      <td>0.606 ± 0.011</td>\n",
       "      <td>0.523 ± 0.004</td>\n",
       "      <td>0.179 ± 0.327</td>\n",
       "      <td>0.594 ± 0.222</td>\n",
       "      <td>4212.000 ± 4759.733</td>\n",
       "      <td>1177.000 ± 2499.734</td>\n",
       "      <td>21185.600 ± 11048.245</td>\n",
       "    </tr>\n",
       "    <tr>\n",
       "      <th>logLTN</th>\n",
       "      <td>0.617 ± 0.010</td>\n",
       "      <td>0.534 ± 0.022</td>\n",
       "      <td>0.163 ± 0.289</td>\n",
       "      <td>0.591 ± 0.221</td>\n",
       "      <td>11867.600 ± 10252.679</td>\n",
       "      <td>4273.200 ± 8739.115</td>\n",
       "      <td>21013.600 ± 10932.613</td>\n",
       "    </tr>\n",
       "    <tr>\n",
       "      <th>Focal LTN (gamma: 2)</th>\n",
       "      <td>0.590 ± 0.013</td>\n",
       "      <td>0.499 ± 0.014</td>\n",
       "      <td>0.321 ± 0.396</td>\n",
       "      <td>0.689 ± 0.276</td>\n",
       "      <td>11613.200 ± 9117.898</td>\n",
       "      <td>2904.800 ± 3835.510</td>\n",
       "      <td>16204.200 ± 13452.335</td>\n",
       "    </tr>\n",
       "    <tr>\n",
       "      <th>Focal LTN (Sum)</th>\n",
       "      <td>0.587 ± 0.013</td>\n",
       "      <td>0.509 ± 0.021</td>\n",
       "      <td>0.033 ± 0.001</td>\n",
       "      <td>0.486 ± 0.009</td>\n",
       "      <td>6907.200 ± 3285.600</td>\n",
       "      <td>275.200 ± 159.101</td>\n",
       "      <td>25972.400 ± 138.942</td>\n",
       "    </tr>\n",
       "    <tr>\n",
       "      <th>Focal logLTN (gamma: 2)</th>\n",
       "      <td>0.632 ± 0.005</td>\n",
       "      <td>0.551 ± 0.008</td>\n",
       "      <td>0.182 ± 0.337</td>\n",
       "      <td>0.574 ± 0.234</td>\n",
       "      <td>8645.400 ± 6398.968</td>\n",
       "      <td>996.800 ± 1534.351</td>\n",
       "      <td>21317.200 ± 10254.386</td>\n",
       "    </tr>\n",
       "    <tr>\n",
       "      <th>Focal logLTN (Sum)</th>\n",
       "      <td>0.632 ± 0.005</td>\n",
       "      <td>0.550 ± 0.008</td>\n",
       "      <td>0.032 ± 0.002</td>\n",
       "      <td>0.475 ± 0.014</td>\n",
       "      <td>9596.200 ± 6186.083</td>\n",
       "      <td>402.000 ± 297.774</td>\n",
       "      <td>25878.800 ± 224.427</td>\n",
       "    </tr>\n",
       "  </tbody>\n",
       "</table>\n",
       "</div>"
      ]
     },
     "execution_count": 12,
     "metadata": {},
     "output_type": "execute_result"
    }
   ],
   "execution_count": 12
  },
  {
   "metadata": {
    "ExecuteTime": {
     "end_time": "2024-05-15T17:27:12.863785Z",
     "start_time": "2024-05-15T17:27:12.840764Z"
    }
   },
   "cell_type": "code",
   "source": [
    "df = tmp[(tmp[\"gamma\"] == 1) & (tmp[\"data_ratio\"] == gamma)]\n",
    "\n",
    "for g in df[\"group_name\"].unique():\n",
    "    if pd.isna(g):\n",
    "        continue\n",
    "    r = df[(df[\"group_name\"] == g) & (df[\"_step\"] == 3)]\n",
    "    m, M , mean, std = r[\"test/partof_pr_auc\"].min(), r[\"test/partof_pr_auc\"].max(), r[\"test/partof_pr_auc\"].mean(), r[\"test/partof_pr_auc\"].std()\n",
    "    m2, M2 , mean2, std2 = r[\"test/partof_roc_auc\"].min(), r[\"test/partof_roc_auc\"].max(), r[\"test/partof_roc_auc\"].mean(), r[\"test/partof_roc_auc\"].std()\n",
    "    print(f\"{g}: {mean:.3f} ± {std:.3f} ({m:.3f} - {M:.3f}) - {mean2:.3f} ± {std2:.3f} ({m2:.3f} - {M2:.3f})\")"
   ],
   "id": "c3960d225f951425",
   "outputs": [
    {
     "name": "stdout",
     "output_type": "stream",
     "text": [
      "LTN-Prod Test: 0.031 ± nan (0.031 - 0.031) - 0.465 ± nan (0.465 - 0.465)\n",
      "Focal LTN (gamma: 1): 0.032 ± 0.001 (0.029 - 0.035) - 0.471 ± 0.013 (0.452 - 0.504)\n",
      "Focal logLTN (gamma: 1): 0.033 ± 0.003 (0.031 - 0.038) - 0.480 ± 0.031 (0.456 - 0.533)\n",
      "Focal logLTN (Sum): 0.031 ± 0.001 (0.030 - 0.033) - 0.463 ± 0.008 (0.456 - 0.475)\n",
      "Focal LTN (Sum): 0.032 ± 0.002 (0.029 - 0.034) - 0.476 ± 0.019 (0.449 - 0.501)\n",
      "Focal logLTN (gamma: 2): 0.171 ± 0.314 (0.030 - 0.733) - 0.568 ± 0.235 (0.456 - 0.987)\n",
      "logLTN: 0.142 ± 0.247 (0.030 - 0.585) - 0.567 ± 0.229 (0.452 - 0.975)\n",
      "Focal LTN (gamma: 2): 0.265 ± 0.321 (0.030 - 0.651) - 0.674 ± 0.278 (0.460 - 0.979)\n",
      "LTN-Stable (p: 2): 0.059 ± 0.061 (0.028 - 0.168) - 0.521 ± 0.112 (0.438 - 0.714)\n",
      "LTN-Prod: 0.150 ± 0.265 (0.028 - 0.623) - 0.573 ± 0.228 (0.436 - 0.978)\n",
      "LTN-Stable (p: 6): 0.119 ± 0.194 (0.029 - 0.465) - 0.580 ± 0.217 (0.451 - 0.964)\n"
     ]
    }
   ],
   "execution_count": 66
  },
  {
   "metadata": {
    "ExecuteTime": {
     "end_time": "2024-05-15T14:22:23.027629Z",
     "start_time": "2024-05-15T14:22:23.012646Z"
    }
   },
   "cell_type": "code",
   "source": "pd.isna(list(df[\"group_name\"].unique())[1])",
   "id": "1ace19eaddad13b0",
   "outputs": [
    {
     "data": {
      "text/plain": [
       "True"
      ]
     },
     "execution_count": 65,
     "metadata": {},
     "output_type": "execute_result"
    }
   ],
   "execution_count": 65
  },
  {
   "metadata": {
    "ExecuteTime": {
     "end_time": "2024-04-24T13:29:18.778029Z",
     "start_time": "2024-04-24T13:29:18.766464Z"
    }
   },
   "cell_type": "code",
   "source": "out.pivot(index=\"group_name\", columns=\"metric\", values=\"res\")",
   "id": "9ac45feb3379464f",
   "outputs": [
    {
     "data": {
      "text/plain": [
       "metric                        # Mereological Violations  \\\n",
       "group_name                                                \n",
       "Focal LTN (Sum) (0.5)               2526.500 ± 3395.043   \n",
       "Focal LTN (gamma: 2) (0.5)          3040.800 ± 4848.993   \n",
       "Focal logLTN (Sum) (0.5)            8676.333 ± 6900.485   \n",
       "Focal logLTN (gamma: 2) (0.5)       3962.000 ± 3286.371   \n",
       "LTN-Prod (0.5)                      5095.600 ± 8040.543   \n",
       "LTN-Stable (p: 2) (0.5)           28581.400 ± 61665.956   \n",
       "LTN-Stable (p: 6) (0.5)           10165.400 ± 12879.185   \n",
       "logLTN (0.5)                        2360.600 ± 1725.000   \n",
       "\n",
       "metric                        # Mereological Violations (Reasonable)  \\\n",
       "group_name                                                             \n",
       "Focal LTN (Sum) (0.5)                               80.750 ± 135.202   \n",
       "Focal LTN (gamma: 2) (0.5)                         176.200 ± 266.254   \n",
       "Focal logLTN (Sum) (0.5)                           478.333 ± 352.614   \n",
       "Focal logLTN (gamma: 2) (0.5)                      203.600 ± 186.499   \n",
       "LTN-Prod (0.5)                                     228.000 ± 377.017   \n",
       "LTN-Stable (p: 2) (0.5)                           762.200 ± 1640.254   \n",
       "LTN-Stable (p: 6) (0.5)                            478.000 ± 648.668   \n",
       "logLTN (0.5)                                         50.400 ± 30.672   \n",
       "\n",
       "metric                               False Negatives  PartOf PR AUC  \\\n",
       "group_name                                                            \n",
       "Focal LTN (Sum) (0.5)            26169.000 ± 101.348  0.033 ± 0.000   \n",
       "Focal LTN (gamma: 2) (0.5)       26126.600 ± 155.330  0.033 ± 0.002   \n",
       "Focal logLTN (Sum) (0.5)         25882.000 ± 288.111  0.032 ± 0.002   \n",
       "Focal logLTN (gamma: 2) (0.5)  14272.600 ± 10740.735  0.031 ± 0.002   \n",
       "LTN-Prod (0.5)                 14238.800 ± 10618.381  0.032 ± 0.002   \n",
       "LTN-Stable (p: 2) (0.5)        17815.000 ± 10354.137  0.028 ± 0.001   \n",
       "LTN-Stable (p: 6) (0.5)        18022.600 ± 10479.708  0.033 ± 0.001   \n",
       "logLTN (0.5)                   14318.600 ± 10698.127  0.030 ± 0.003   \n",
       "\n",
       "metric                        PartOf ROC AUC  Type Accuracy  \\\n",
       "group_name                                                    \n",
       "Focal LTN (Sum) (0.5)          0.492 ± 0.006  0.584 ± 0.022   \n",
       "Focal LTN (gamma: 2) (0.5)     0.488 ± 0.021  0.589 ± 0.013   \n",
       "Focal logLTN (Sum) (0.5)       0.479 ± 0.016  0.633 ± 0.006   \n",
       "Focal logLTN (gamma: 2) (0.5)  0.479 ± 0.015  0.616 ± 0.013   \n",
       "LTN-Prod (0.5)                 0.479 ± 0.017  0.598 ± 0.008   \n",
       "LTN-Stable (p: 2) (0.5)        0.449 ± 0.011  0.084 ± 0.040   \n",
       "LTN-Stable (p: 6) (0.5)        0.495 ± 0.012  0.512 ± 0.016   \n",
       "logLTN (0.5)                   0.466 ± 0.024  0.584 ± 0.032   \n",
       "\n",
       "metric                        Type Balanced Accuracy  \n",
       "group_name                                            \n",
       "Focal LTN (Sum) (0.5)                  0.496 ± 0.014  \n",
       "Focal LTN (gamma: 2) (0.5)             0.521 ± 0.013  \n",
       "Focal logLTN (Sum) (0.5)               0.550 ± 0.011  \n",
       "Focal logLTN (gamma: 2) (0.5)          0.538 ± 0.012  \n",
       "LTN-Prod (0.5)                         0.500 ± 0.030  \n",
       "LTN-Stable (p: 2) (0.5)                0.027 ± 0.016  \n",
       "LTN-Stable (p: 6) (0.5)                0.344 ± 0.011  \n",
       "logLTN (0.5)                           0.511 ± 0.024  "
      ],
      "text/html": [
       "<div>\n",
       "<style scoped>\n",
       "    .dataframe tbody tr th:only-of-type {\n",
       "        vertical-align: middle;\n",
       "    }\n",
       "\n",
       "    .dataframe tbody tr th {\n",
       "        vertical-align: top;\n",
       "    }\n",
       "\n",
       "    .dataframe thead th {\n",
       "        text-align: right;\n",
       "    }\n",
       "</style>\n",
       "<table border=\"1\" class=\"dataframe\">\n",
       "  <thead>\n",
       "    <tr style=\"text-align: right;\">\n",
       "      <th>metric</th>\n",
       "      <th># Mereological Violations</th>\n",
       "      <th># Mereological Violations (Reasonable)</th>\n",
       "      <th>False Negatives</th>\n",
       "      <th>PartOf PR AUC</th>\n",
       "      <th>PartOf ROC AUC</th>\n",
       "      <th>Type Accuracy</th>\n",
       "      <th>Type Balanced Accuracy</th>\n",
       "    </tr>\n",
       "    <tr>\n",
       "      <th>group_name</th>\n",
       "      <th></th>\n",
       "      <th></th>\n",
       "      <th></th>\n",
       "      <th></th>\n",
       "      <th></th>\n",
       "      <th></th>\n",
       "      <th></th>\n",
       "    </tr>\n",
       "  </thead>\n",
       "  <tbody>\n",
       "    <tr>\n",
       "      <th>Focal LTN (Sum) (0.5)</th>\n",
       "      <td>2526.500 ± 3395.043</td>\n",
       "      <td>80.750 ± 135.202</td>\n",
       "      <td>26169.000 ± 101.348</td>\n",
       "      <td>0.033 ± 0.000</td>\n",
       "      <td>0.492 ± 0.006</td>\n",
       "      <td>0.584 ± 0.022</td>\n",
       "      <td>0.496 ± 0.014</td>\n",
       "    </tr>\n",
       "    <tr>\n",
       "      <th>Focal LTN (gamma: 2) (0.5)</th>\n",
       "      <td>3040.800 ± 4848.993</td>\n",
       "      <td>176.200 ± 266.254</td>\n",
       "      <td>26126.600 ± 155.330</td>\n",
       "      <td>0.033 ± 0.002</td>\n",
       "      <td>0.488 ± 0.021</td>\n",
       "      <td>0.589 ± 0.013</td>\n",
       "      <td>0.521 ± 0.013</td>\n",
       "    </tr>\n",
       "    <tr>\n",
       "      <th>Focal logLTN (Sum) (0.5)</th>\n",
       "      <td>8676.333 ± 6900.485</td>\n",
       "      <td>478.333 ± 352.614</td>\n",
       "      <td>25882.000 ± 288.111</td>\n",
       "      <td>0.032 ± 0.002</td>\n",
       "      <td>0.479 ± 0.016</td>\n",
       "      <td>0.633 ± 0.006</td>\n",
       "      <td>0.550 ± 0.011</td>\n",
       "    </tr>\n",
       "    <tr>\n",
       "      <th>Focal logLTN (gamma: 2) (0.5)</th>\n",
       "      <td>3962.000 ± 3286.371</td>\n",
       "      <td>203.600 ± 186.499</td>\n",
       "      <td>14272.600 ± 10740.735</td>\n",
       "      <td>0.031 ± 0.002</td>\n",
       "      <td>0.479 ± 0.015</td>\n",
       "      <td>0.616 ± 0.013</td>\n",
       "      <td>0.538 ± 0.012</td>\n",
       "    </tr>\n",
       "    <tr>\n",
       "      <th>LTN-Prod (0.5)</th>\n",
       "      <td>5095.600 ± 8040.543</td>\n",
       "      <td>228.000 ± 377.017</td>\n",
       "      <td>14238.800 ± 10618.381</td>\n",
       "      <td>0.032 ± 0.002</td>\n",
       "      <td>0.479 ± 0.017</td>\n",
       "      <td>0.598 ± 0.008</td>\n",
       "      <td>0.500 ± 0.030</td>\n",
       "    </tr>\n",
       "    <tr>\n",
       "      <th>LTN-Stable (p: 2) (0.5)</th>\n",
       "      <td>28581.400 ± 61665.956</td>\n",
       "      <td>762.200 ± 1640.254</td>\n",
       "      <td>17815.000 ± 10354.137</td>\n",
       "      <td>0.028 ± 0.001</td>\n",
       "      <td>0.449 ± 0.011</td>\n",
       "      <td>0.084 ± 0.040</td>\n",
       "      <td>0.027 ± 0.016</td>\n",
       "    </tr>\n",
       "    <tr>\n",
       "      <th>LTN-Stable (p: 6) (0.5)</th>\n",
       "      <td>10165.400 ± 12879.185</td>\n",
       "      <td>478.000 ± 648.668</td>\n",
       "      <td>18022.600 ± 10479.708</td>\n",
       "      <td>0.033 ± 0.001</td>\n",
       "      <td>0.495 ± 0.012</td>\n",
       "      <td>0.512 ± 0.016</td>\n",
       "      <td>0.344 ± 0.011</td>\n",
       "    </tr>\n",
       "    <tr>\n",
       "      <th>logLTN (0.5)</th>\n",
       "      <td>2360.600 ± 1725.000</td>\n",
       "      <td>50.400 ± 30.672</td>\n",
       "      <td>14318.600 ± 10698.127</td>\n",
       "      <td>0.030 ± 0.003</td>\n",
       "      <td>0.466 ± 0.024</td>\n",
       "      <td>0.584 ± 0.032</td>\n",
       "      <td>0.511 ± 0.024</td>\n",
       "    </tr>\n",
       "  </tbody>\n",
       "</table>\n",
       "</div>"
      ]
     },
     "execution_count": 40,
     "metadata": {},
     "output_type": "execute_result"
    }
   ],
   "execution_count": 40
  },
  {
   "metadata": {},
   "cell_type": "code",
   "outputs": [],
   "execution_count": null,
   "source": [
    "out = pd.DataFrame()\n",
    "df = tmp[(tmp[\"ltn_config\"].isin([\"focal_ltn\", \"focal_log_ltn\"])) & (tmp[\"data_ratio\"] == 1)].groupby([\"group_name\", \"_step\"])\n",
    "for k, title in exp_keys.items():\n",
    "    t = df.agg(mean=(k, \"mean\"), std=(k, \"std\"))\n",
    "    t = t.sort_values('mean', ascending=sort_types[k] == \"min\").reset_index()\n",
    "    if k == \"test/type_acc\":\n",
    "        t = t.groupby([\"group_name\"]).nth(0)\n",
    "        best_step = t[[\"group_name\", \"_step\"]]\n",
    "    else:\n",
    "        t[\"filter\"] = t[[\"group_name\", \"_step\"]].apply(\n",
    "            lambda x: any((best_step[\"group_name\"] == x[\"group_name\"]) & (best_step[\"_step\"] == x[\"_step\"])), axis=1)\n",
    "        t = t[t[\"filter\"]]\n",
    "    t[\"metric\"] = exp_keys[k]\n",
    "    t = t.reset_index()\n",
    "    t[\"res\"] = t[\"mean\"].map(\"{:.3f}\".format) + \" ± \" + t[\"std\"].map(\"{:.3f}\".format)\n",
    "    out = pd.concat([out, t[[\"group_name\", \"metric\", \"res\", \"_step\"]]], axis=0)\n",
    "# order_keys = list(legend_map.values())\n",
    "tmp2 = out.pivot(index=\"group_name\", columns=\"metric\", values=\"res\")[\n",
    "    [\"Type Accuracy\", \"Type Balanced Accuracy\", \"PartOf PR AUC\", \"PartOf ROC AUC\", \"# Mereological Violations\",\n",
    "     \"# Mereological Violations (Reasonable)\", \"False Negatives\"]]\n",
    "tmp2.to_clipboard()\n",
    "tmp2"
   ],
   "id": "47aed79dfc56e83a"
  },
  {
   "metadata": {},
   "cell_type": "code",
   "outputs": [],
   "execution_count": null,
   "source": [
    "out.set_index([\"group_name\", \"metric\"])\n",
    "# order_legend = list(legend_map.values())\n",
    "font_size = 12\n",
    "out.mkdir(exist_ok=True, parents=True)\n",
    "for k, title in exp_keys.items():\n",
    "    ax = sns.lineplot(y=k, x=\"_step\", data=tmp[(tmp[\"gamma\"].isna())], hue=\"group_name\")\n",
    "    ax.set_title(title, weight='bold').set_fontsize(font_size)\n",
    "    ax.set(xlabel=\"Epoch\", ylabel=\"Value\")\n",
    "    # handles, labels = ax.get_legend_handles_labels()\n",
    "    # labels, handles = zip(*sorted(zip(labels, handles), key=lambda t: order_legend.index(t[0])))\n",
    "    # ax.legend(handles, labels, title=\"Method\")\n",
    "    ax.legend(*zip(*sorted(zip(*ax.get_legend_handles_labels()),\n",
    "                           key=lambda s: [int(t) if t.isdigit() else t.lower() for t in re.split('(\\d+)', s[1])])))\n",
    "    ax.ticklabel_format(useMathText=True, useOffset=False)\n",
    "    sns.despine()\n",
    "    plt.tight_layout()\n",
    "    # display(ax)\n",
    "    name = k.replace(\"\\\\\", \"_\").replace(\"/\", \"_\")\n",
    "    ax.get_figure().savefig(out / f\"{name}.pdf\")\n",
    "    plt.clf()"
   ],
   "id": "5da609aa3794a95"
  },
  {
   "metadata": {
    "ExecuteTime": {
     "end_time": "2024-04-18T13:34:09.835255Z",
     "start_time": "2024-04-18T13:34:02.902573Z"
    }
   },
   "cell_type": "code",
   "source": [
    "for ltn_config in [\"focal_ltn\", \"focal_log_ltn\"]:\n",
    "    for k, title in exp_keys.items():\n",
    "        ax = sns.lineplot(y=k, x=\"_step\", data=tmp[(tmp[\"ltn_config\"] == ltn_config)], hue=\"group_name\")\n",
    "        ax.set_title(title, weight='bold').set_fontsize(font_size)\n",
    "        ax.set(xlabel=\"Epoch\", ylabel=\"Value\")\n",
    "        # handles, labels = ax.get_legend_handles_labels()\n",
    "        # labels, handles = zip(*sorted(zip(labels, handles), key=lambda t: order_legend.index(t[0])))\n",
    "        # ax.legend(handles, labels, title=\"Method\")\n",
    "        ax.legend(*zip(*sorted(zip(*ax.get_legend_handles_labels()),\n",
    "                               key=lambda s: [int(t) if t.isdigit() else t.lower() for t in re.split('(\\d+)', s[1])])))\n",
    "        ax.ticklabel_format(useMathText=True, useOffset=False)\n",
    "        sns.despine()\n",
    "        plt.tight_layout()\n",
    "        # display(ax)\n",
    "        name = k.replace(\"\\\\\", \"_\").replace(\"/\", \"_\")\n",
    "        ax.get_figure().savefig(out / f\"gamma_{ltn_config}_{name}.pdf\")\n",
    "        plt.clf()"
   ],
   "id": "66dabacb9f18ddd9",
   "outputs": [
    {
     "data": {
      "text/plain": [
       "<Figure size 640x480 with 0 Axes>"
      ]
     },
     "metadata": {},
     "output_type": "display_data"
    }
   ],
   "execution_count": 14
  },
  {
   "metadata": {
    "ExecuteTime": {
     "end_time": "2024-05-13T16:05:19.867403Z",
     "start_time": "2024-05-13T16:05:19.846493Z"
    }
   },
   "cell_type": "code",
   "source": [
    "import numpy as np\n",
    "df = {}\n",
    "x = np.linspace(0, 1, 100)\n",
    "for gamma in [1,2,6]:\n",
    "    y = x**((1-x)**gamma)\n",
    "    df[f\"{gamma}\"] = y\n",
    "df = pd.DataFrame(df | {\"x\": x})\n",
    "    "
   ],
   "id": "cb716c0aeb42f106",
   "outputs": [],
   "execution_count": 6
  },
  {
   "metadata": {
    "ExecuteTime": {
     "end_time": "2024-05-13T16:03:54.647825Z",
     "start_time": "2024-05-13T16:03:54.630326Z"
    }
   },
   "cell_type": "code",
   "source": "y",
   "id": "d9484480c0ef5cff",
   "outputs": [
    {
     "data": {
      "text/plain": [
       "array([0.        , 0.01325254, 0.03167398, 0.05463733, 0.08164317,\n",
       "       0.11216783, 0.14565941, 0.18155282, 0.21928724, 0.25832175,\n",
       "       0.2981479 , 0.33829893, 0.37835576, 0.4179503 , 0.45676639,\n",
       "       0.49453893, 0.53105165, 0.56613386, 0.59965658, 0.63152829,\n",
       "       0.66169057, 0.69011373, 0.71679265, 0.7417428 , 0.76499665,\n",
       "       0.78660032, 0.8066107 , 0.82509282, 0.8421176 , 0.85775992,\n",
       "       0.87209699, 0.88520696, 0.89716779, 0.90805637, 0.91794775,\n",
       "       0.92691457, 0.93502669, 0.9423508 , 0.94895029, 0.95488505,\n",
       "       0.9602115 , 0.96498248, 0.9692474 , 0.97305223, 0.97643967,\n",
       "       0.97944922, 0.98211736, 0.98447769, 0.98656106, 0.98839575,\n",
       "       0.99000763, 0.99142029, 0.99265522, 0.99373196, 0.9946682 ,\n",
       "       0.99547997, 0.99618172, 0.9967865 , 0.997306  , 0.99775074,\n",
       "       0.99813012, 0.99845254, 0.99872546, 0.99895552, 0.9991486 ,\n",
       "       0.99930989, 0.99944396, 0.99955482, 0.99964598, 0.9997205 ,\n",
       "       0.99978103, 0.99982986, 0.99986896, 0.99990004, 0.99992453,\n",
       "       0.99994365, 0.99995843, 0.99996974, 0.99997828, 0.99998466,\n",
       "       0.99998935, 0.99999275, 0.99999517, 0.99999686, 0.99999801,\n",
       "       0.99999878, 0.99999928, 0.99999959, 0.99999978, 0.99999989,\n",
       "       0.99999995, 0.99999998, 0.99999999, 1.        , 1.        ,\n",
       "       1.        , 1.        , 1.        , 1.        , 1.        ])"
      ]
     },
     "execution_count": 5,
     "metadata": {},
     "output_type": "execute_result"
    }
   ],
   "execution_count": 5
  },
  {
   "metadata": {
    "ExecuteTime": {
     "end_time": "2024-05-13T16:11:56.856165Z",
     "start_time": "2024-05-13T16:11:56.139666Z"
    }
   },
   "cell_type": "code",
   "source": [
    "sns.lineplot(x='x', y='value', hue='variable', \n",
    "             data=pd.melt(df, ['x']))\n",
    "plt.legend(title='Gamma')\n",
    "plt.xlabel('x')\n",
    "plt.ylabel('y')\n",
    "plt.title('Focal Loss')\n",
    "plt.savefig(out / \"focal_loss.pdf\")"
   ],
   "id": "1b15a0ff53155f72",
   "outputs": [
    {
     "data": {
      "text/plain": [
       "<Figure size 640x480 with 1 Axes>"
      ],
      "image/png": "[encoded data removed]"
     },
     "metadata": {},
     "output_type": "display_data"
    }
   ],
   "execution_count": 21
  },
  {
   "metadata": {
    "ExecuteTime": {
     "end_time": "2024-05-14T07:29:05.482771Z",
     "start_time": "2024-05-14T07:28:58.096825Z"
    }
   },
   "cell_type": "code",
   "source": [
    "import json\n",
    "path = Path(\"C:/Users/piano/Desktop/ffhq-dataset-v2.json\")\n",
    "with open(path) as f:\n",
    "    data = json.load(f)\n"
   ],
   "id": "72964b0f7334fc4c",
   "outputs": [],
   "execution_count": 4
  },
  {
   "metadata": {
    "ExecuteTime": {
     "end_time": "2024-05-14T07:32:33.299862Z",
     "start_time": "2024-05-14T07:32:33.233437Z"
    }
   },
   "cell_type": "code",
   "source": [
    "d = {}\n",
    "for key in data.keys():\n",
    "    k = data[key][\"metadata\"][\"date_uploaded\"].split(\"-\")[0]\n",
    "    if k not in d:\n",
    "        d[k] = 0\n",
    "    d[k] += 1\n",
    "keys = list(d.keys())\n",
    "keys.sort()\n",
    "vals = [d[k] for k in keys]"
   ],
   "id": "95d9399cba8e554b",
   "outputs": [],
   "execution_count": 11
  },
  {
   "metadata": {
    "ExecuteTime": {
     "end_time": "2024-05-14T07:35:52.530225Z",
     "start_time": "2024-05-14T07:35:52.309974Z"
    }
   },
   "cell_type": "code",
   "source": [
    "sns.barplot(x=keys, y=vals)\n",
    "plt.xticks(rotation=45)\n",
    "plt.title(\"FFHQ Dataset Date Uploaded\")"
   ],
   "id": "122c069f04eb6d29",
   "outputs": [
    {
     "data": {
      "text/plain": [
       "Text(0.5, 1.0, 'FFHQ Dataset Date Uploaded')"
      ]
     },
     "execution_count": 14,
     "metadata": {},
     "output_type": "execute_result"
    },
    {
     "data": {
      "text/plain": [
       "<Figure size 640x480 with 1 Axes>"
      ],
      "image/png": "[encoded data removed]"
     },
     "metadata": {},
     "output_type": "display_data"
    }
   ],
   "execution_count": 14
  },
  {
   "metadata": {
    "ExecuteTime": {
     "end_time": "2024-05-15T12:57:04.371118Z",
     "start_time": "2024-05-15T12:57:04.356105Z"
    }
   },
   "cell_type": "code",
   "source": "run.config",
   "id": "f17373dd79f18b1a",
   "outputs": [
    {
     "data": {
      "text/plain": [
       "{'epochs': 10,\n",
       " 'workers': 12,\n",
       " 'chunk_size': 100,\n",
       " 'data_ratio': 1,\n",
       " 'group_name': 'stable_rl_12_1',\n",
       " 'ltn_config': 'stable_rl',\n",
       " 'float_dtype': 'float32',\n",
       " 'random_seed': 1300,\n",
       " 'data_category': 'all',\n",
       " 'labeled_ratio': 0.05,\n",
       " 'minibatch_size': 32,\n",
       " 'shuffle_buffer_size': 10000,\n",
       " 'test_minibatch_size': 2048,\n",
       " 'epochs_of_pretraining': 1,\n",
       " 'p_universal_quantifier': 12,\n",
       " 'with_clustering_axioms': False,\n",
       " 'a_existential_quantifier': 1,\n",
       " 'p_existential_quantifier': 5,\n",
       " 'training_steps_per_epoch': 100,\n",
       " 'types_hidden_layer_sizes': [512, 256, 256, 128, 128],\n",
       " 'with_mereological_axioms': True,\n",
       " 'bounding_box_minimal_size': 6,\n",
       " 'partof_hidden_layer_sizes': [512, 256, 256, 128, 128],\n",
       " 'max_a_existential_quantifier': 5,\n",
       " 'max_p_existential_quantifier': 5,\n",
       " 'min_a_existential_quantifier': 1,\n",
       " 'min_p_existential_quantifier': 1,\n",
       " 'schedule_a_existential_quantifier': 'linear',\n",
       " 'schedule_p_existential_quantifier': 'linear'}"
      ]
     },
     "execution_count": 3,
     "metadata": {},
     "output_type": "execute_result"
    }
   ],
   "execution_count": 3
  },
  {
   "metadata": {},
   "cell_type": "code",
   "outputs": [],
   "execution_count": null,
   "source": "",
   "id": "e2f2eb6aa23a2233"
  }
 ],
 "metadata": {
  "kernelspec": {
   "display_name": "Python 3",
   "language": "python",
   "name": "python3"
  },
  "language_info": {
   "codemirror_mode": {
    "name": "ipython",
    "version": 2
   },
   "file_extension": ".py",
   "mimetype": "text/x-python",
   "name": "python",
   "nbconvert_exporter": "python",
   "pygments_lexer": "ipython2",
   "version": "2.7.6"
  }
 },
 "nbformat": 4,
 "nbformat_minor": 5
}
