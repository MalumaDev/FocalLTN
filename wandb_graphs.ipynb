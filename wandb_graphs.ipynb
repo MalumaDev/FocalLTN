{
 "cells": [
  {
   "cell_type": "code",
   "id": "initial_id",
   "metadata": {
    "collapsed": true,
    "ExecuteTime": {
     "end_time": "2024-04-18T13:30:43.552958Z",
     "start_time": "2024-04-18T13:30:43.312585Z"
    }
   },
   "source": [
    "from pathlib import Path\n",
    "\n",
    "import wandb\n",
    "import pandas as pd\n",
    "import seaborn as sns\n",
    "from tqdm import tqdm\n",
    "import re\n",
    "from matplotlib import pyplot as plt\n",
    "\n",
    "sns.set_style(\"whitegrid\")\n",
    "\n",
    "out = Path(\"plots\")\n",
    "data_category = \"all\"\n",
    "api = wandb.Api()\n",
    "runs = api.runs(f\"grains-polito/NeSy24PascalPart_{data_category.upper()}\")\n",
    "reports = api.reports(f\"grains-polito/NeSy24PascalPart_{data_category.upper()}\")\n",
    "\n",
    "exp_keys = {\n",
    "    \"test/reasonable_false_pos\": \"# Mereological Violations (Reasonable)\",\n",
    "    \"test/type_acc\": \"Type Accuracy\",\n",
    "    \"test/partof_pr_auc\": \"PartOf PR AUC\",\n",
    "    \"test/false_neg\": \"False Negatives\",\n",
    "    \"test/unreasonable_false_pos\": \"# Mereological Violations\",\n",
    "    \"test/type_balanced_acc\": \"Type Balanced Accuracy\",\n",
    "    \"test/partof_roc_auc\": \"PartOf ROC AUC\",\n",
    "}\n",
    "\n",
    "sort_types = {\n",
    "    \"test/reasonable_false_pos\": \"min\",\n",
    "    \"test/type_acc\": \"max\",\n",
    "    \"test/partof_pr_auc\": \"max\",\n",
    "    \"test/false_neg\": \"min\",\n",
    "    \"test/unreasonable_false_pos\": \"min\",\n",
    "    \"test/type_balanced_acc\": \"max\",\n",
    "    \"test/partof_roc_auc\": \"max\",\n",
    "}\n",
    "\n",
    "legend_map = {\n",
    "    'log_ltn': \"logLTN\",\n",
    "    'prod_rl': \"LTN-Prod\",\n",
    "    'stable_rl_2': \"LTN-Stable (p: 2)\",\n",
    "    'stable_rl_6': \"LTN-Stable (p: 6)\",\n",
    "    'focal_ltn_6': \"Focal LTN (gamma: 6)\",\n",
    "    'focal_ltn': \"Focal LTN (gamma: 2)\",\n",
    "    'focal_ltn_1': \"Focal LTN (gamma: 1)\",\n",
    "    'focal_ltn_0': \"Focal LTN (gamma: 0)\",\n",
    "    'focal_log_ltn_6': \"Focal logLTN (gamma: 6)\",\n",
    "    'focal_log_ltn': \"Focal logLTN (gamma: 2)\",\n",
    "    'focal_log_ltn_1': \"Focal logLTN (gamma: 1)\",\n",
    "    'focal_log_ltn_0': \"Focal logLTN (gamma: 0)\",\n",
    "}"
   ],
   "outputs": [],
   "execution_count": 6
  },
  {
   "metadata": {
    "ExecuteTime": {
     "end_time": "2024-04-18T13:31:17.689526Z",
     "start_time": "2024-04-18T13:30:43.553959Z"
    }
   },
   "cell_type": "code",
   "source": [
    "runs_df = pd.DataFrame()\n",
    "discarded_keys = set()\n",
    "for run in tqdm(runs):\n",
    "    df = run.history(\n",
    "        samples=10, keys=list(exp_keys.keys()),\n",
    "        x_axis=\"_step\", pandas=(True), stream=\"default\"\n",
    "    ).dropna(axis=1, how=\"any\")\n",
    "    steps = df[\"_step\"].unique().tolist()\n",
    "    steps.sort()\n",
    "    steps = {v: i for i, v in enumerate(steps)}\n",
    "    df[\"_step\"] = df[\"_step\"].map(steps)\n",
    "    for k, v in run.config.items():\n",
    "        if not k.startswith(\"_\"):\n",
    "            try:\n",
    "                if k == \"group_name\":\n",
    "                    v = legend_map[v]\n",
    "                df[k] = v\n",
    "            except ValueError:\n",
    "                discarded_keys.add(k)\n",
    "    if \"_0\" in run.config.get(\"group_name\"):\n",
    "        continue\n",
    "    df[\"name\"] = run.name\n",
    "    runs_df = pd.concat([runs_df, df])\n",
    "print(discarded_keys)"
   ],
   "id": "10b17f3de6c2257d",
   "outputs": [
    {
     "name": "stderr",
     "output_type": "stream",
     "text": [
      "100%|██████████| 47/47 [00:33<00:00,  1.39it/s]"
     ]
    },
    {
     "name": "stdout",
     "output_type": "stream",
     "text": [
      "{'partof_hidden_layer_sizes', 'types_hidden_layer_sizes'}\n"
     ]
    },
    {
     "name": "stderr",
     "output_type": "stream",
     "text": [
      "\n"
     ]
    }
   ],
   "execution_count": 7
  },
  {
   "metadata": {
    "ExecuteTime": {
     "end_time": "2024-04-18T13:31:17.704834Z",
     "start_time": "2024-04-18T13:31:17.690527Z"
    }
   },
   "cell_type": "code",
   "source": "tmp = runs_df[[\"name\", \"_step\", \"random_seed\", \"group_name\", \"ltn_config\", \"gamma\"] + list(exp_keys.keys())]",
   "id": "27fa6fee537d4eb0",
   "outputs": [],
   "execution_count": 8
  },
  {
   "metadata": {},
   "cell_type": "code",
   "outputs": [],
   "execution_count": null,
   "source": [
    "out  = pd.DataFrame()\n",
    "for k, title in exp_keys.items():\n",
    "    t = tmp[(tmp[\"gamma\"].isna())].groupby([\"group_name\",\"_step\"]).agg(mean= (k,\"mean\"), std= (k,\"std\"))\n",
    "    t = t.sort_values('mean', ascending=sort_types[k] == \"min\").reset_index().groupby([\"group_name\"]).nth(0)\n",
    "    t[\"metric\"] = exp_keys[k]\n",
    "    t = t.reset_index()\n",
    "    out = pd.concat([out, t[[\"group_name\",\"metric\",\"mean\",\"std\"]]], axis=0)\n",
    "    # display(t)"
   ],
   "id": "1d9caaf51239e3e"
  },
  {
   "metadata": {},
   "cell_type": "code",
   "outputs": [],
   "execution_count": null,
   "source": [
    "out.set_index([\"group_name\", \"metric\"])\n",
    "# order_legend = list(legend_map.values())\n",
    "font_size = 12\n",
    "out.mkdir(exist_ok=True, parents=True)\n",
    "for k, title in exp_keys.items():\n",
    "    ax = sns.lineplot(y=k, x=\"_step\", data=tmp[(tmp[\"gamma\"].isna())], hue=\"group_name\")\n",
    "    ax.set_title(title, weight='bold').set_fontsize(font_size)\n",
    "    ax.set(xlabel=\"Epoch\", ylabel=\"Value\")\n",
    "    # handles, labels = ax.get_legend_handles_labels()\n",
    "    # labels, handles = zip(*sorted(zip(labels, handles), key=lambda t: order_legend.index(t[0])))\n",
    "    # ax.legend(handles, labels, title=\"Method\")\n",
    "    ax.legend(*zip(*sorted(zip(*ax.get_legend_handles_labels()), key = lambda s: [int(t) if t.isdigit() else t.lower() for t in re.split('(\\d+)', s[1])])))\n",
    "    ax.ticklabel_format(useMathText=True, useOffset=False)\n",
    "    sns.despine()\n",
    "    plt.tight_layout()\n",
    "    # display(ax)\n",
    "    name = k.replace(\"\\\\\", \"_\").replace(\"/\", \"_\")\n",
    "    ax.get_figure().savefig(out / f\"{name}.pdf\")\n",
    "    plt.clf()"
   ],
   "id": "5da609aa3794a95"
  },
  {
   "metadata": {
    "ExecuteTime": {
     "end_time": "2024-04-18T13:34:09.835255Z",
     "start_time": "2024-04-18T13:34:02.902573Z"
    }
   },
   "cell_type": "code",
   "source": [
    "for ltn_config in [\"focal_ltn\", \"focal_log_ltn\"]:\n",
    "    for k, title in exp_keys.items():\n",
    "        ax = sns.lineplot(y=k, x=\"_step\", data=tmp[(tmp[\"ltn_config\"] == ltn_config)], hue=\"group_name\")\n",
    "        ax.set_title(title, weight='bold').set_fontsize(font_size)\n",
    "        ax.set(xlabel=\"Epoch\", ylabel=\"Value\")\n",
    "        # handles, labels = ax.get_legend_handles_labels()\n",
    "        # labels, handles = zip(*sorted(zip(labels, handles), key=lambda t: order_legend.index(t[0])))\n",
    "        # ax.legend(handles, labels, title=\"Method\")\n",
    "        ax.legend(*zip(*sorted(zip(*ax.get_legend_handles_labels()), key = lambda s: [int(t) if t.isdigit() else t.lower() for t in re.split('(\\d+)', s[1])])))\n",
    "        ax.ticklabel_format(useMathText=True, useOffset=False)\n",
    "        sns.despine()\n",
    "        plt.tight_layout()\n",
    "        # display(ax)\n",
    "        name = k.replace(\"\\\\\", \"_\").replace(\"/\", \"_\")\n",
    "        ax.get_figure().savefig(out / f\"gamma_{ltn_config}_{name}.pdf\")\n",
    "        plt.clf()"
   ],
   "id": "66dabacb9f18ddd9",
   "outputs": [
    {
     "data": {
      "text/plain": [
       "<Figure size 640x480 with 0 Axes>"
      ]
     },
     "metadata": {},
     "output_type": "display_data"
    }
   ],
   "execution_count": 14
  },
  {
   "metadata": {},
   "cell_type": "code",
   "outputs": [],
   "execution_count": null,
   "source": "",
   "id": "cb716c0aeb42f106"
  }
 ],
 "metadata": {
  "kernelspec": {
   "display_name": "Python 3",
   "language": "python",
   "name": "python3"
  },
  "language_info": {
   "codemirror_mode": {
    "name": "ipython",
    "version": 2
   },
   "file_extension": ".py",
   "mimetype": "text/x-python",
   "name": "python",
   "nbconvert_exporter": "python",
   "pygments_lexer": "ipython2",
   "version": "2.7.6"
  }
 },
 "nbformat": 4,
 "nbformat_minor": 5
}
